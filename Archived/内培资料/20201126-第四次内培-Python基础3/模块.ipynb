{
 "cells": [
  {
   "cell_type": "markdown",
   "metadata": {},
   "source": [
    "# 模块"
   ]
  },
  {
   "cell_type": "markdown",
   "metadata": {},
   "source": [
    "## 模块的定义"
   ]
  },
  {
   "cell_type": "markdown",
   "metadata": {},
   "source": [
    "- 简单地说，模块就是一个保存了Python代码的文件。模块能定义函数，类和变量。模块里也能包含可执行的代码。<br>\n",
    "- 模块让你能够有逻辑地组织你的 Python 代码段。"
   ]
  },
  {
   "cell_type": "markdown",
   "metadata": {},
   "source": [
    "- 模块类型： <br>\n",
    "(1) 自定义模块：我们只需要写一个python文件即可，也就是说写一个.py为后缀的文件，<br>\n",
    "(2) 内置标准模块, Python自带的标准库  <br>\n",
    "(3) 开源模块（第三方）,这些库需要先进行安装"
   ]
  },
  {
   "cell_type": "markdown",
   "metadata": {},
   "source": [
    "## 模块的使用"
   ]
  },
  {
   "cell_type": "markdown",
   "metadata": {},
   "source": [
    "模块的使用方法：<br>\n",
    "- import module1,module2 <br>\n",
    "- from 模块名 import 函数名   <br>\n",
    "- from  模块名 import 函数名 as 函数别名  <br>\n",
    "- import 模块名 as 函数别名"
   ]
  },
  {
   "cell_type": "code",
   "execution_count": 7,
   "metadata": {},
   "outputs": [],
   "source": [
    "import numpy as np  # import 语句导入整个模块内的所有成员（包括变量、函数、类等）\n",
    "import random\n",
    "import matplotlib.pyplot as plt\n",
    "from pandas import *\n",
    "from numpy import zeros"
   ]
  },
  {
   "cell_type": "code",
   "execution_count": 2,
   "metadata": {},
   "outputs": [
    {
     "name": "stdout",
     "output_type": "stream",
     "text": [
      "hello aft!\n",
      "hello 2020!\n"
     ]
    }
   ],
   "source": [
    "# hello.py 文件\n",
    "class test:                  # 定义一个类，进行测试\n",
    "    def __init__(self):\n",
    "        self.string = \"hello aft!\"\n",
    "    def print_class(self):\n",
    "        print(self.string)\n",
    "\n",
    "def print_func():            #定义一个函数进行测试\n",
    "    print(\"hello 2020!\")\n",
    "\n",
    "if __name__ == '__main__': \n",
    "#代码只有在文件作为脚本直接执行才会被执行，而 import 到其他脚本中是不会被执行的。\n",
    "    s = test()\n",
    "    s.print_class()\n",
    "    print_func()"
   ]
  },
  {
   "cell_type": "code",
   "execution_count": 3,
   "metadata": {},
   "outputs": [
    {
     "name": "stdout",
     "output_type": "stream",
     "text": [
      "hello aft!\n",
      "hello 2020!\n"
     ]
    }
   ],
   "source": [
    "# example.py 文件\n",
    "# import importlib\n",
    "# hello=importlib.reload(hello)\n",
    "\n",
    "import hello    #导入hello.py 模块\n",
    "\n",
    "s = hello.test()       #测试hello.py中定义的类\n",
    "s.print_class()\n",
    "\n",
    "hello.print_func()    #测试hello.py中定义的函数\n"
   ]
  },
  {
   "cell_type": "code",
   "execution_count": 42,
   "metadata": {
    "scrolled": true
   },
   "outputs": [
    {
     "data": {
      "text/plain": [
       "<matplotlib.axes._subplots.AxesSubplot at 0x288a9ce5b00>"
      ]
     },
     "execution_count": 42,
     "metadata": {},
     "output_type": "execute_result"
    },
    {
     "data": {
      "image/png": "[encoded data removed]",
      "text/plain": [
       "<Figure size 432x288 with 1 Axes>"
      ]
     },
     "metadata": {},
     "output_type": "display_data"
    }
   ],
   "source": [
    "import seaborn as sns\n",
    "\n",
    "x = np.random.normal(size=10000)  #生成10000个标准正态分布的数\n",
    "sns.distplot(x)"
   ]
  },
  {
   "cell_type": "code",
   "execution_count": null,
   "metadata": {},
   "outputs": [],
   "source": []
  },
  {
   "cell_type": "markdown",
   "metadata": {},
   "source": [
    "## 一些关于模块的问题"
   ]
  },
  {
   "cell_type": "markdown",
   "metadata": {},
   "source": [
    "- 模块导入多次为何仅仅导入一次没有区别？<br>\n",
    "模块并不是用来执行操作的，而是用来定义变量、函数、类等。因为定义只需要做一次，所以导入模块多次和导入一次的效果相同"
   ]
  },
  {
   "cell_type": "markdown",
   "metadata": {},
   "source": [
    "- 出于性能考虑，每个模块在每个解释器会话中只导入一遍。如果你修改了你的模块，需要导入修改后的模块 <br>\n",
    "(1) 需要重启解释器；  <br>\n",
    "(2) 可以用importlib.reload() 重新加载，例如:  <br>\n",
    "import importlib  <br>\n",
    "importlib.reload(模块名)"
   ]
  },
  {
   "cell_type": "markdown",
   "metadata": {},
   "source": [
    "- 让模块可用：  <br>\n",
    "(1) 将模块放到正确的位置  <br>\n",
    "(2) 告诉解释器到哪里去查找    <br>\n",
    "- 当你导入一个模块，Python 解释器对模块位置的搜索顺序是：  <br>\n",
    "(1) 当前目录： 所以自己写的模块直接放在当前目录，解释器就可以找到  <br>\n",
    "(2) 如果不在当前目录，Python 则搜索在环境变量 PYTHONPATH 下的每个目录：  修改环境变量   <br>"
   ]
  },
  {
   "cell_type": "code",
   "execution_count": 4,
   "metadata": {},
   "outputs": [],
   "source": [
    "#### 第一种方法：\n",
    "import sys\n",
    "sys.path  \n",
    "# 所以我们只需要将我们写的模块放到这里表示的任何一个位置中，\n",
    "# 解释器就可以找到，从而使自己写的模块可用\n",
    "sys.path.append('D:\\学习\\coding') "
   ]
  },
  {
   "cell_type": "code",
   "execution_count": 5,
   "metadata": {},
   "outputs": [
    {
     "data": {
      "text/plain": [
       "['C:\\\\Users\\\\HP\\\\python\\\\AFT',\n",
       " 'C:\\\\ProgramData\\\\Anaconda3\\\\python37.zip',\n",
       " 'C:\\\\ProgramData\\\\Anaconda3\\\\DLLs',\n",
       " 'C:\\\\ProgramData\\\\Anaconda3\\\\lib',\n",
       " 'C:\\\\ProgramData\\\\Anaconda3',\n",
       " '',\n",
       " 'C:\\\\Users\\\\HP\\\\AppData\\\\Roaming\\\\Python\\\\Python37\\\\site-packages',\n",
       " 'C:\\\\ProgramData\\\\Anaconda3\\\\lib\\\\site-packages',\n",
       " 'C:\\\\ProgramData\\\\Anaconda3\\\\lib\\\\site-packages\\\\win32',\n",
       " 'C:\\\\ProgramData\\\\Anaconda3\\\\lib\\\\site-packages\\\\win32\\\\lib',\n",
       " 'C:\\\\ProgramData\\\\Anaconda3\\\\lib\\\\site-packages\\\\Pythonwin',\n",
       " 'C:\\\\ProgramData\\\\Anaconda3\\\\lib\\\\site-packages\\\\IPython\\\\extensions',\n",
       " 'C:\\\\Users\\\\HP\\\\.ipython',\n",
       " 'D:\\\\学习\\\\coding']"
      ]
     },
     "execution_count": 5,
     "metadata": {},
     "output_type": "execute_result"
    }
   ],
   "source": [
    "sys.path  "
   ]
  },
  {
   "cell_type": "markdown",
   "metadata": {},
   "source": [
    "另外一种方法：将模块所在的目录包含在环境变量PYTHONPATH中。\n",
    "\n",
    "- 环境变量中存放的值，就是一连串的路径。\n",
    "系统执行用户命令时，若用户未给出绝对路径，则首先在当前目录下寻找相应的可执行文件等。\n",
    "若找不到，再依次在环境变量保存的这些路径中寻找相应的可执行的程序文件。 <br>\n",
    "[http://c.biancheng.net/view/4645.html ]<br>"
   ]
  },
  {
   "cell_type": "code",
   "execution_count": null,
   "metadata": {},
   "outputs": [],
   "source": []
  },
  {
   "cell_type": "markdown",
   "metadata": {},
   "source": [
    "# 常用模块"
   ]
  },
  {
   "cell_type": "markdown",
   "metadata": {},
   "source": [
    "## time"
   ]
  },
  {
   "cell_type": "code",
   "execution_count": 1,
   "metadata": {},
   "outputs": [],
   "source": [
    "import time"
   ]
  },
  {
   "cell_type": "code",
   "execution_count": 11,
   "metadata": {
    "scrolled": true
   },
   "outputs": [
    {
     "data": {
      "text/plain": [
       "['_STRUCT_TM_ITEMS',\n",
       " '__doc__',\n",
       " '__loader__',\n",
       " '__name__',\n",
       " '__package__',\n",
       " '__spec__',\n",
       " 'altzone',\n",
       " 'asctime',\n",
       " 'clock',\n",
       " 'ctime',\n",
       " 'daylight',\n",
       " 'get_clock_info',\n",
       " 'gmtime',\n",
       " 'localtime',\n",
       " 'mktime',\n",
       " 'monotonic',\n",
       " 'monotonic_ns',\n",
       " 'perf_counter',\n",
       " 'perf_counter_ns',\n",
       " 'process_time',\n",
       " 'process_time_ns',\n",
       " 'sleep',\n",
       " 'strftime',\n",
       " 'strptime',\n",
       " 'struct_time',\n",
       " 'thread_time',\n",
       " 'thread_time_ns',\n",
       " 'time',\n",
       " 'time_ns',\n",
       " 'timezone',\n",
       " 'tzname']"
      ]
     },
     "execution_count": 11,
     "metadata": {},
     "output_type": "execute_result"
    }
   ],
   "source": [
    "dir(time)"
   ]
  },
  {
   "cell_type": "code",
   "execution_count": 26,
   "metadata": {},
   "outputs": [
    {
     "name": "stdout",
     "output_type": "stream",
     "text": [
      "1604226654.917666\n"
     ]
    }
   ],
   "source": [
    "print(time.time())  #以自从1970年1月1日午夜（历元）经过了多长时间来表示。"
   ]
  },
  {
   "cell_type": "code",
   "execution_count": 27,
   "metadata": {},
   "outputs": [
    {
     "name": "stdout",
     "output_type": "stream",
     "text": [
      "time.struct_time(tm_year=2020, tm_mon=11, tm_mday=1, tm_hour=18, tm_min=30, tm_sec=57, tm_wday=6, tm_yday=306, tm_isdst=0)\n"
     ]
    }
   ],
   "source": [
    "print(time.localtime(time.time()))   #将秒数转换为表示当地时间的日期元组"
   ]
  },
  {
   "cell_type": "code",
   "execution_count": 15,
   "metadata": {},
   "outputs": [
    {
     "name": "stdout",
     "output_type": "stream",
     "text": [
      "1604154771.0\n"
     ]
    }
   ],
   "source": [
    "print(time.mktime(time.localtime(time.time()))) #将时间元组转化为秒数"
   ]
  },
  {
   "cell_type": "code",
   "execution_count": 28,
   "metadata": {},
   "outputs": [
    {
     "name": "stdout",
     "output_type": "stream",
     "text": [
      "Sun Nov  1 18:33:10 2020\n"
     ]
    }
   ],
   "source": [
    "#将时间元组转换为字符串\n",
    "print(time.asctime( time.localtime(time.time()))) "
   ]
  },
  {
   "cell_type": "code",
   "execution_count": 29,
   "metadata": {
    "scrolled": true
   },
   "outputs": [
    {
     "name": "stdout",
     "output_type": "stream",
     "text": [
      "2020-11-01 18:34:31\n",
      "Sun Nov 01 18:34:31 2020\n",
      "time.struct_time(tm_year=2016, tm_mon=3, tm_mday=28, tm_hour=22, tm_min=24, tm_sec=24, tm_wday=5, tm_yday=88, tm_isdst=-1)\n"
     ]
    }
   ],
   "source": [
    "#使用 time 模块的 strftime 方法来格式化日期，：\n",
    "# 格式化成2016-03-20 11:45:39形式\n",
    "print(time.strftime(\"%Y-%m-%d %H:%M:%S\", time.localtime())) \n",
    "# 格式化成Sat Mar 28 22:24:24 2016形式\n",
    "print(time.strftime(\"%a %b %d %H:%M:%S %Y\", time.localtime())) \n",
    "# 将字符串转换为时间元组 \n",
    "a = \"Sat Mar 28 22:24:24 2016\"\n",
    "print(time.strptime(a,\"%a %b %d %H:%M:%S %Y\"))"
   ]
  },
  {
   "cell_type": "markdown",
   "metadata": {},
   "source": [
    "%y 两位数的年份表示（00-99）<br>\n",
    "%Y 四位数的年份表示（000-9999）<br>\n",
    "%m 月份（01-12）<br>\n",
    "%d 月内中的一天（0-31）<br>\n",
    "%H 24小时制小时数（0-23）<br>\n",
    "%I 12小时制小时数（01-12）<br>\n",
    "%M 分钟数（00-59）<br>\n",
    "%S 秒（00-59）<br>\n",
    "%a 本地简化星期名称<br>\n",
    "%A 本地完整星期名称<br>\n",
    "%b 本地简化的月份名称<br>\n",
    "%B 本地完整的月份名称<br>\n",
    "%c 本地相应的日期表示和时间表示<br>\n",
    "%j 年内的一天（001-366）<br>\n",
    "%p 本地A.M.或P.M.的等价符<br>\n",
    "%U 一年中的星期数（00-53）星期天为星期的开始<br>\n",
    "%w 星期（0-6），星期天为星期的开始<br>\n",
    "%W 一年中的星期数（00-53）星期一为星期的开始<br>\n",
    "%x 本地相应的日期表示<br>\n",
    "%X 本地相应的时间表示<br>\n",
    "%Z 当前时区的名称<br>\n",
    "%% %号本身<br>"
   ]
  },
  {
   "cell_type": "code",
   "execution_count": 2,
   "metadata": {},
   "outputs": [
    {
     "name": "stdout",
     "output_type": "stream",
     "text": [
      "Start : 1604492804.7039995\n",
      "End : 1604492809.704309\n"
     ]
    }
   ],
   "source": [
    "print(\"Start : %s\" % time.time())\n",
    "time.sleep( 5 )\n",
    "print(\"End : %s\" % time.time())"
   ]
  },
  {
   "cell_type": "code",
   "execution_count": null,
   "metadata": {},
   "outputs": [],
   "source": []
  },
  {
   "cell_type": "markdown",
   "metadata": {},
   "source": [
    "## random"
   ]
  },
  {
   "cell_type": "code",
   "execution_count": 1,
   "metadata": {},
   "outputs": [],
   "source": [
    "import random"
   ]
  },
  {
   "cell_type": "code",
   "execution_count": 3,
   "metadata": {
    "scrolled": true
   },
   "outputs": [
    {
     "data": {
      "text/plain": [
       "['BPF',\n",
       " 'LOG4',\n",
       " 'NV_MAGICCONST',\n",
       " 'RECIP_BPF',\n",
       " 'Random',\n",
       " 'SG_MAGICCONST',\n",
       " 'SystemRandom',\n",
       " 'TWOPI',\n",
       " '_BuiltinMethodType',\n",
       " '_MethodType',\n",
       " '_Sequence',\n",
       " '_Set',\n",
       " '__all__',\n",
       " '__builtins__',\n",
       " '__cached__',\n",
       " '__doc__',\n",
       " '__file__',\n",
       " '__loader__',\n",
       " '__name__',\n",
       " '__package__',\n",
       " '__spec__',\n",
       " '_acos',\n",
       " '_bisect',\n",
       " '_ceil',\n",
       " '_cos',\n",
       " '_e',\n",
       " '_exp',\n",
       " '_inst',\n",
       " '_itertools',\n",
       " '_log',\n",
       " '_os',\n",
       " '_pi',\n",
       " '_random',\n",
       " '_sha512',\n",
       " '_sin',\n",
       " '_sqrt',\n",
       " '_test',\n",
       " '_test_generator',\n",
       " '_urandom',\n",
       " '_warn',\n",
       " 'betavariate',\n",
       " 'choice',\n",
       " 'choices',\n",
       " 'expovariate',\n",
       " 'gammavariate',\n",
       " 'gauss',\n",
       " 'getrandbits',\n",
       " 'getstate',\n",
       " 'lognormvariate',\n",
       " 'normalvariate',\n",
       " 'paretovariate',\n",
       " 'randint',\n",
       " 'random',\n",
       " 'randrange',\n",
       " 'sample',\n",
       " 'seed',\n",
       " 'setstate',\n",
       " 'shuffle',\n",
       " 'triangular',\n",
       " 'uniform',\n",
       " 'vonmisesvariate',\n",
       " 'weibullvariate']"
      ]
     },
     "execution_count": 3,
     "metadata": {},
     "output_type": "execute_result"
    }
   ],
   "source": [
    "dir(random)"
   ]
  },
  {
   "cell_type": "code",
   "execution_count": 16,
   "metadata": {},
   "outputs": [
    {
     "data": {
      "text/plain": [
       "0.16123910839715017"
      ]
     },
     "execution_count": 16,
     "metadata": {},
     "output_type": "execute_result"
    }
   ],
   "source": [
    "random.random()   #用于生成一个0到1的随机浮点数: 0 <= n < 1.0"
   ]
  },
  {
   "cell_type": "code",
   "execution_count": 17,
   "metadata": {},
   "outputs": [
    {
     "data": {
      "text/plain": [
       "1.6913146677506734"
      ]
     },
     "execution_count": 17,
     "metadata": {},
     "output_type": "execute_result"
    }
   ],
   "source": [
    "random.uniform(1,2)\n",
    "#用于生成一个指定范围内的随机符点数，两个参数其中一个是上限，一个是下限。"
   ]
  },
  {
   "cell_type": "code",
   "execution_count": 18,
   "metadata": {},
   "outputs": [
    {
     "data": {
      "text/plain": [
       "6"
      ]
     },
     "execution_count": 18,
     "metadata": {},
     "output_type": "execute_result"
    }
   ],
   "source": [
    "random.randint(4,9)  #用于生成一个指定范围内的整数"
   ]
  },
  {
   "cell_type": "code",
   "execution_count": 30,
   "metadata": {},
   "outputs": [
    {
     "name": "stdout",
     "output_type": "stream",
     "text": [
      "[2, 1, 7, 9, 5]\n"
     ]
    }
   ],
   "source": [
    "x=[1,2,5,7,9]\n",
    "random.shuffle(x)   #用于将一个列表中的元素打乱。\n",
    "print(x)"
   ]
  },
  {
   "cell_type": "code",
   "execution_count": 7,
   "metadata": {},
   "outputs": [
    {
     "name": "stdout",
     "output_type": "stream",
     "text": [
      "[4, 9]\n",
      "['a', 'd']\n"
     ]
    }
   ],
   "source": [
    "print(random.sample([1,3,4,6,7,9],2))  \n",
    "#sample(seq, n) 从序列seq中选择n个随机且独立的元素；\\\n",
    "print(random.sample('fsdas',2))"
   ]
  },
  {
   "cell_type": "code",
   "execution_count": 6,
   "metadata": {},
   "outputs": [
    {
     "data": {
      "text/plain": [
       "42"
      ]
     },
     "execution_count": 6,
     "metadata": {},
     "output_type": "execute_result"
    }
   ],
   "source": [
    "random.randrange(10, 100, 2)  \n",
    "#从指定范围内，按指定基数递增的集合中 获取一个随机数。\n",
    "#如：random.randrange(10, 100, 2)，结果相当于从[10, 12, 14, 16, ... 96, 98]序列\n",
    "#中获取一个随机数"
   ]
  },
  {
   "cell_type": "code",
   "execution_count": 37,
   "metadata": {},
   "outputs": [
    {
     "name": "stdout",
     "output_type": "stream",
     "text": [
      "f\n",
      "fasd\n",
      "645\n"
     ]
    }
   ],
   "source": [
    "print(random.choice(\"ffdasa\"))\n",
    "print(random.choice((\"fas\",1,3,7,\"fasd\")))\n",
    "print(random.choice([1,34,6435,645]))\n",
    "#从序列中获取一个随机元素。参数sequence表示一个有序类型。这里要说明 一下：\n",
    "#sequence在python不是一种特定的类型，而是泛指一系列的类型。\n",
    "#list, tuple, 字符串都属于sequence。"
   ]
  },
  {
   "cell_type": "code",
   "execution_count": null,
   "metadata": {},
   "outputs": [],
   "source": []
  },
  {
   "cell_type": "code",
   "execution_count": null,
   "metadata": {},
   "outputs": [],
   "source": []
  },
  {
   "cell_type": "code",
   "execution_count": null,
   "metadata": {},
   "outputs": [],
   "source": []
  },
  {
   "cell_type": "code",
   "execution_count": null,
   "metadata": {},
   "outputs": [],
   "source": []
  },
  {
   "cell_type": "code",
   "execution_count": null,
   "metadata": {},
   "outputs": [],
   "source": []
  }
 ],
 "metadata": {
  "kernelspec": {
   "display_name": "Python 3",
   "language": "python",
   "name": "python3"
  },
  "language_info": {
   "codemirror_mode": {
    "name": "ipython",
    "version": 3
   },
   "file_extension": ".py",
   "mimetype": "text/x-python",
   "name": "python",
   "nbconvert_exporter": "python",
   "pygments_lexer": "ipython3",
   "version": "3.7.3"
  },
  "toc": {
   "base_numbering": 1,
   "nav_menu": {},
   "number_sections": true,
   "sideBar": true,
   "skip_h1_title": false,
   "title_cell": "Table of Contents",
   "title_sidebar": "Contents",
   "toc_cell": false,
   "toc_position": {},
   "toc_section_display": true,
   "toc_window_display": true
  }
 },
 "nbformat": 4,
 "nbformat_minor": 2
}
