{
 "cells": [
  {
   "cell_type": "markdown",
   "metadata": {},
   "source": [
    "# 一、函数"
   ]
  },
  {
   "cell_type": "markdown",
   "metadata": {},
   "source": [
    "## 1.0 什么是函数 callable()"
   ]
  },
  {
   "cell_type": "markdown",
   "metadata": {},
   "source": [
    "callable() 函数用于检查一个对象是否是可调用的。可调用返回 True，否则返回 False。\n",
    "\n",
    "对于函数、lambda 函式、 类以及实现了 __call__ 方法的类实例, 它都返回 True。"
   ]
  },
  {
   "cell_type": "code",
   "execution_count": null,
   "metadata": {
    "collapsed": true
   },
   "outputs": [],
   "source": [
    "#callable()方法语法：\n",
    "callable(object)  #object为对象"
   ]
  },
  {
   "cell_type": "markdown",
   "metadata": {},
   "source": [
    "类对象都是可被调用对象，类的实例对象是否可调用对象，取决于类是否定义了__call__方法。"
   ]
  },
  {
   "cell_type": "code",
   "execution_count": 1,
   "metadata": {},
   "outputs": [
    {
     "data": {
      "text/plain": [
       "True"
      ]
     },
     "execution_count": 1,
     "metadata": {},
     "output_type": "execute_result"
    }
   ],
   "source": [
    "def add(a,b):\n",
    "    return a+b\n",
    "\n",
    "callable(add)\n"
   ]
  },
  {
   "cell_type": "code",
   "execution_count": 4,
   "metadata": {},
   "outputs": [
    {
     "data": {
      "text/plain": [
       "True"
      ]
     },
     "execution_count": 4,
     "metadata": {},
     "output_type": "execute_result"
    }
   ],
   "source": [
    "class A: #定义类A\n",
    "    pass\n",
    "\n",
    "callable(A) #类A是可调用对象"
   ]
  },
  {
   "cell_type": "code",
   "execution_count": 3,
   "metadata": {},
   "outputs": [
    {
     "data": {
      "text/plain": [
       "False"
      ]
     },
     "execution_count": 3,
     "metadata": {},
     "output_type": "execute_result"
    }
   ],
   "source": [
    "a = A() #调用变量a\n",
    "callable(a) #在没有实现__call__的条件下,变量a不可调用,返回false"
   ]
  },
  {
   "cell_type": "code",
   "execution_count": 3,
   "metadata": {},
   "outputs": [
    {
     "data": {
      "text/plain": [
       "True"
      ]
     },
     "execution_count": 3,
     "metadata": {},
     "output_type": "execute_result"
    }
   ],
   "source": [
    "class B: #定义类B\n",
    "    def __call__(self):   #参数self指向对象本身\n",
    "        print('instances are callable now.')\n",
    "\n",
    "callable(B) #类B是可调用对象\n",
    "\n",
    "b = B()  #想去调用变量b\n",
    "callable(b)"
   ]
  },
  {
   "cell_type": "markdown",
   "metadata": {},
   "source": [
    "## 1.1 函数定义"
   ]
  },
  {
   "cell_type": "markdown",
   "metadata": {},
   "source": [
    "#### 运行这些代码后，将有一个名为hello的新函数。它返回一个字符串，其中包含向唯一参数指定的人发出的问候语。你可像使用内置函数那样使用这个函数。"
   ]
  },
  {
   "cell_type": "code",
   "execution_count": 7,
   "metadata": {},
   "outputs": [
    {
     "name": "stdout",
     "output_type": "stream",
     "text": [
      "hello,world!\n",
      "hello,lucy!\n"
     ]
    }
   ],
   "source": [
    "def hello(name):\n",
    "    return \"hello,\"+name+\"!\"\n",
    "\n",
    "print (hello(\"world\"))\n",
    "print (hello(\"lucy\"))"
   ]
  },
  {
   "cell_type": "code",
   "execution_count": 40,
   "metadata": {},
   "outputs": [
    {
     "name": "stdout",
     "output_type": "stream",
     "text": [
      "5\n"
     ]
    }
   ],
   "source": [
    "def sum_2_sum(num1,num2): #形参\n",
    "    result = num1+num2\n",
    "    return result #返回值\n",
    "\n",
    "end = sum_2_sum(2,3)\n",
    "print(end) "
   ]
  },
  {
   "cell_type": "markdown",
   "metadata": {},
   "source": [
    "#### 即，定义函数包括以下要素：\n",
    "\n",
    "## 1.1.1 函数头：包括函数名和参数（形式参数）\n",
    "\n",
    "### 1. 函数名\n",
    "def是英文define的缩写\n",
    "函数名称应该能够表达函数封装代码的功能，方便后续的调用\n",
    "\n",
    "注意，在创建函数时，即使函数不需要参数，也必须保留一对空的“()”，否则 Python 解释器将提示“invaild syntax”错误。\n",
    "\n",
    "### 2. 参数（形参和实参）\n",
    "形参：定义函数时，小括号中的参数，是用来接收参数用的，在函数内部作为变量使用\n",
    "\n",
    "实参：调用函数时，小括号中的参数，是用来把数据传递到函数内部用的\n",
    "\n",
    "### 3. 函数的返回值\n",
    "#### return的作用\n",
    "在函数中使用return可以从函数返回结果\n",
    "数学意义上的函数总是返回根据参数计算得到的结果。\n",
    "\n",
    "函数体中 return 语句有指定返回值时返回的就是其值。在Python中，有些函数什么都不返回。\n",
    "\n",
    "函数体中没有 return 语句，或有return语句，但没有在后面指定值，函数运行结束会隐含返回一个 None 作为返回值"
   ]
  },
  {
   "cell_type": "code",
   "execution_count": 41,
   "metadata": {},
   "outputs": [
    {
     "name": "stdout",
     "output_type": "stream",
     "text": [
      "This is printed\n",
      "None\n"
     ]
    }
   ],
   "source": [
    "def test(): \n",
    "     print('This is printed') \n",
    "     return #这里使用return语句只是为了结束函数\n",
    "     print('This is not')\n",
    "    \n",
    "x = test() #调用函数\n",
    "\n",
    "print(x) #test是个空函数，什么都不返回。但所有的函数都返回值，如果你没有告诉他们该返回什么，将返回None\n"
   ]
  },
  {
   "cell_type": "markdown",
   "metadata": {
    "collapsed": true
   },
   "source": [
    "## 1.1.2 调用函数"
   ]
  },
  {
   "cell_type": "markdown",
   "metadata": {
    "collapsed": true
   },
   "source": [
    "#### 调用函数也就是执行函数，如果把创建的函数理解为一个具有某种用途的工具，那么调用函数就相当于使用该工具。\n",
    "函数调用的基本语法格式如下所示："
   ]
  },
  {
   "cell_type": "code",
   "execution_count": null,
   "metadata": {
    "collapsed": true
   },
   "outputs": [],
   "source": [
    "#[返回值] = 函数名([形参值])  \n",
    "#x,y为实际参数\n",
    "\n",
    "z = max(x,y) "
   ]
  },
  {
   "cell_type": "markdown",
   "metadata": {},
   "source": [
    "## 1.1.3 返回多个值"
   ]
  },
  {
   "cell_type": "markdown",
   "metadata": {},
   "source": [
    "#### 函数可以返回多个值吗？答案是肯定的。但其实这只是一种假象，Python函数返回的仍然是单一值，返回多值其实就是返回一个tuple，但写起来更方便。\n",
    "\n",
    "无论定义的是返回什么类型，return 只能返回单值，但值可以存在多个元素；\n",
    "\n",
    "return [1,3,5] 是指返回一个列表，是一个列表对象，1,3,5 分别是这个列表的元素；\n",
    "\n",
    "return 1,3,5 看似返回多个值，隐式地被Python封装成了一个元祖返回"
   ]
  },
  {
   "cell_type": "code",
   "execution_count": 43,
   "metadata": {},
   "outputs": [
    {
     "name": "stdout",
     "output_type": "stream",
     "text": [
      "(11, 22, 33)\n"
     ]
    }
   ],
   "source": [
    "def test():\n",
    "    a=11\n",
    "    b=22\n",
    "    c=33\n",
    "    return (a,b,c)\n",
    " \n",
    "num=test()\n",
    "print (num)\n"
   ]
  },
  {
   "cell_type": "markdown",
   "metadata": {},
   "source": [
    "### 1.1.4 定义空函数与pass的使用"
   ]
  },
  {
   "cell_type": "markdown",
   "metadata": {},
   "source": [
    "#### Python pass 是空语句，是为了保持程序结构的完整性。\n",
    "\n",
    "pass 不做任何事情，一般用做占位语句。\n",
    "如果想定义一个什么事也不做的空函数，可以用pass语句："
   ]
  },
  {
   "cell_type": "code",
   "execution_count": 44,
   "metadata": {
    "collapsed": true
   },
   "outputs": [],
   "source": [
    "def nop():\n",
    "    pass"
   ]
  },
  {
   "cell_type": "markdown",
   "metadata": {},
   "source": [
    "## 1.2 函数参数"
   ]
  },
  {
   "cell_type": "markdown",
   "metadata": {},
   "source": [
    "### 1.2.1 参数可变吗？（考虑字符串 str 和列表 list），如何防止可变的参数被改变？"
   ]
  },
  {
   "cell_type": "markdown",
   "metadata": {},
   "source": [
    "#### 为何要修改参数\n",
    "在提高程序的抽象程度方面，使用函数来修改数据结构（如列表或字典）是一种不错的方式。\n",
    "\n",
    "可以将python中常见数据类型按照可变与不可变大致分为两类\n",
    "\n",
    "不可变数据（四个）：Number（数字）、String（字符串）、Tuple（元组）、Sets（集合）；\n",
    "\n",
    "可变数据（两个）：List（列表）、Dictionary（字典）\n",
    "\n",
    "字符串（以及数和元组）是不可变的（immutable），这意味着你不能修改它们（即只能替换为新值），也就是说丢弃原来的存储空间，将变量名链接到新的空间中。而像list和dict是支持增删改的。"
   ]
  },
  {
   "cell_type": "code",
   "execution_count": 45,
   "metadata": {},
   "outputs": [
    {
     "name": "stdout",
     "output_type": "stream",
     "text": [
      "Mrs. Entity\n"
     ]
    }
   ],
   "source": [
    "#在函数内部给参数赋值对外部没有任何影响。\n",
    "def try_to_change(n): \n",
    "     n = 'Mr. Gumby' \n",
    "\n",
    "name = 'Mrs. Entity' \n",
    "try_to_change(name)  #在try_to_change里，将新值赋予给了参数n，这对变量name没有影响，这是一个完全不同的变量\n",
    "print (name)"
   ]
  },
  {
   "cell_type": "code",
   "execution_count": 18,
   "metadata": {},
   "outputs": [
    {
     "data": {
      "text/plain": [
       "['Mr. Gumby', 'Mrs. Thing']"
      ]
     },
     "execution_count": 18,
     "metadata": {},
     "output_type": "execute_result"
    }
   ],
   "source": [
    "#如果参数为可变的数据结构（如列表）呢？\n",
    "def change(n): \n",
    "    n[0] = 'Mr. Gumby'\n",
    "     \n",
    "names = ['Mrs. Entity', 'Mrs. Thing'] \n",
    "change(names) \n",
    "names    #在这个示例中，也在函数内修改了参数，但这个示例与前一个示例之间存在一个重要的不同。在前一个示例中，只是给局部变量赋了新值，而在这个示例中，修改了变量关联到的列表。"
   ]
  },
  {
   "cell_type": "code",
   "execution_count": 19,
   "metadata": {},
   "outputs": [
    {
     "data": {
      "text/plain": [
       "['Mr. Gumby', 'Mrs. Thing']"
      ]
     },
     "execution_count": 19,
     "metadata": {},
     "output_type": "execute_result"
    }
   ],
   "source": [
    "names = ['Mrs. Entity', 'Mrs. Thing'] \n",
    "n = names # 再次假装传递名字作为参数\n",
    "n[0] = 'Mr. Gumby' # 修改列表\n",
    "names \n"
   ]
  },
  {
   "cell_type": "markdown",
   "metadata": {},
   "source": [
    "### 1.2.2 位置参数"
   ]
  },
  {
   "cell_type": "markdown",
   "metadata": {},
   "source": [
    "#### 位置参数要求参数的顺序和个数要和函数定义中一致，比如funcB(100, 99)和funcB(99, 100)的执行结果是不一样的。\n",
    "\n",
    "在下图调用printN时，我们可以按照位置参数的规则传递实参，即实参必须和函数头中定义的形参在顺序、个数、类型上匹配。"
   ]
  },
  {
   "cell_type": "code",
   "execution_count": 57,
   "metadata": {
    "scrolled": true
   },
   "outputs": [
    {
     "name": "stdout",
     "output_type": "stream",
     "text": [
      "hello world\n",
      "hello world\n",
      "hello world\n",
      "hello world\n",
      "hello world\n",
      "hello world\n",
      "hello world\n",
      "hello world\n",
      "hello world\n",
      "hello world\n",
      "<function printN at 0x000001A1844C2048>\n"
     ]
    }
   ],
   "source": [
    "#将一个字符串（strA）打印多次\n",
    "def printN(strA,N):\n",
    "    for _ in range(N):  #只想for循环，而不需要引用具体数值，不想给数值起名字，那么就叫它\"_\"丢弃变量\n",
    "        print(strA)\n",
    "        \n",
    "printN(\"hello world\",10)\n",
    "print (printN)"
   ]
  },
  {
   "cell_type": "markdown",
   "metadata": {},
   "source": [
    "### 1.2.3关键字参数"
   ]
  },
  {
   "cell_type": "markdown",
   "metadata": {},
   "source": [
    "除了使用位置参数的规则传递参数外，也可以使用关键字参数的规则传递参数。也就是在调用函数的时候，明确指定参数值付给那个形参。\n",
    "\n",
    "有时候，参数的排列顺序可能难以记住，尤其是参数很多时。为了简化调用工作，可指定参\n",
    "数的名称。"
   ]
  },
  {
   "cell_type": "code",
   "execution_count": 58,
   "metadata": {},
   "outputs": [
    {
     "name": "stdout",
     "output_type": "stream",
     "text": [
      "helloworld\n",
      "helloworld\n",
      "helloworld\n",
      "helloworld\n",
      "helloworld\n",
      "helloworld\n",
      "helloworld\n",
      "helloworld\n",
      "helloworld\n",
      "helloworld\n",
      "<function printN at 0x000001A184405378>\n"
     ]
    }
   ],
   "source": [
    "def printN(strA,N):\n",
    "    for _ in range(N): #_在python中的应用\n",
    "        print(strA)\n",
    "        \n",
    "printN(N=10,strA = 'helloworld') #指定参数名称\n",
    "print(printN)"
   ]
  },
  {
   "cell_type": "markdown",
   "metadata": {},
   "source": [
    "另外，在函数调用中，可以混合使用基于位置匹配的参数和关键字参数，前提是先给出固定位置的参数，否则解释器将不知道它们是哪个参数（即不知道参数对应的位置）。比如"
   ]
  },
  {
   "cell_type": "code",
   "execution_count": 66,
   "metadata": {},
   "outputs": [
    {
     "name": "stdout",
     "output_type": "stream",
     "text": [
      "Howdy, Mars...\n",
      "<function hello_ at 0x000001A1844C6268>\n"
     ]
    }
   ],
   "source": [
    "def hello_(name, greeting='Hello', punctuation='!'): \n",
    "     print('{}, {}{}'.format(greeting, name, punctuation))\n",
    "        \n",
    "hello_('Mars', 'Howdy', '...')\n",
    "        \n",
    "print(hello_)"
   ]
  },
  {
   "cell_type": "code",
   "execution_count": 67,
   "metadata": {},
   "outputs": [
    {
     "name": "stdout",
     "output_type": "stream",
     "text": [
      "top of the morning to you, Mars!\n",
      "<function hello_ at 0x000001A1844C2EA0>\n"
     ]
    }
   ],
   "source": [
    "def hello_(name, greeting='Hello', punctuation='!'):  #hello是关键字参数的默认值\n",
    "     print('{}, {}{}'.format(greeting, name, punctuation))\n",
    "        \n",
    "hello_('Mars', greeting='top of the morning to you')\n",
    "        \n",
    "print(hello_)\n"
   ]
  },
  {
   "cell_type": "markdown",
   "metadata": {},
   "source": [
    "### 1.2.4 含默认值的参数"
   ]
  },
  {
   "cell_type": "markdown",
   "metadata": {},
   "source": [
    "关键字参数最大的优点在于，可以指定默认值。 \n",
    "带有默认值的参数一定是右连续的，有默认值的参数的右边的参数不能没有默认值。"
   ]
  },
  {
   "cell_type": "code",
   "execution_count": 1,
   "metadata": {},
   "outputs": [
    {
     "name": "stdout",
     "output_type": "stream",
     "text": [
      "3\n",
      "243\n"
     ]
    }
   ],
   "source": [
    "def mypow(x, N=1):\n",
    "    return x ** N\n",
    "\n",
    "print(mypow(3))  #因为没有传入N的值，因此默认N=1,即求3的一次方\n",
    "print(mypow(3,5))  #求3的5次方"
   ]
  },
  {
   "cell_type": "markdown",
   "metadata": {},
   "source": [
    "### 1.2.5 收集参数"
   ]
  },
  {
   "cell_type": "markdown",
   "metadata": {},
   "source": [
    "#### 收集位置参数的*"
   ]
  },
  {
   "cell_type": "markdown",
   "metadata": {
    "collapsed": true
   },
   "source": [
    "在参数前加了一个 * 号，函数可以接收零个或多个值作为参数。返回结果是一个元组。传递零个参数时函数并不报错，而是返回一个空元组。但以上这种方法也有局限性，它不能收集关键字参数。"
   ]
  },
  {
   "cell_type": "code",
   "execution_count": 4,
   "metadata": {},
   "outputs": [
    {
     "name": "stdout",
     "output_type": "stream",
     "text": [
      "Params:\n",
      "(1, 2, 3)\n",
      "Nothing:\n",
      "()\n"
     ]
    }
   ],
   "source": [
    "def print_params_2(title, *params,a):   #此星号意味着收集余下的位置参数。\n",
    "    print(title) \n",
    "    print(params)\n",
    "    \n",
    "\n",
    "print_params_2('Params:', 1, 2, 3,a=1)\n",
    "\n",
    "\n",
    "print_params_2('Nothing:',a=1) #如果没有可供收集的参数，params将是一个空元组"
   ]
  },
  {
   "cell_type": "markdown",
   "metadata": {},
   "source": [
    "#### 收集关键词参数的**"
   ]
  },
  {
   "cell_type": "markdown",
   "metadata": {},
   "source": [
    "对关键字参数进行收集的另一种 收集参数 机制：使用两个星号 ( ** ) ，用法同上。最后返回一个以参数名为键、参数值为键值的字典。\n",
    "\n",
    "*和 ** 是可以一起使用的，返回特定的结果。"
   ]
  },
  {
   "cell_type": "code",
   "execution_count": 75,
   "metadata": {},
   "outputs": [
    {
     "name": "stdout",
     "output_type": "stream",
     "text": [
      "{'x': 1, 'y': 2, 'z': 3}\n"
     ]
    }
   ],
   "source": [
    "def print_params_3(**params):   #**可以自定义参数\n",
    "    print(params) \n",
    " \n",
    "print_params_3(x=1, y=2, z=3)   #这样得到的是一个字典而不是元组"
   ]
  },
  {
   "cell_type": "code",
   "execution_count": 76,
   "metadata": {},
   "outputs": [
    {
     "name": "stdout",
     "output_type": "stream",
     "text": [
      "1 2 3\n",
      "(5, 6, 7)\n",
      "{'foo': 1, 'bar': 2}\n"
     ]
    }
   ],
   "source": [
    "def print_params_4(x, y, z=3, *pospar, **keypar):   \n",
    "    print(x, y, z) \n",
    "    print(pospar) \n",
    "    print(keypar)\n",
    "    \n",
    "print_params_4(1, 2, 3, 5, 6, 7, foo=1, bar=2)"
   ]
  },
  {
   "cell_type": "markdown",
   "metadata": {},
   "source": [
    "# 1.3 函数文档"
   ]
  },
  {
   "cell_type": "markdown",
   "metadata": {},
   "source": [
    "### 1.3.1 help()"
   ]
  },
  {
   "cell_type": "markdown",
   "metadata": {
    "collapsed": true
   },
   "source": [
    "只要是函数，都可以用help（）来查看函数的文档，也就是函数的说明书\n",
    "\n",
    "如果是自定义函数，如何查看它的文档？在def后面首行使用''' '''三个单引号对自定义函数进行说明，之后使用help() 就可以查看自定义文档的自定义说明了。\n",
    "\n",
    "说明要包括的内容:1. 对函数的具体描述  2. 对函数的参数的说明"
   ]
  },
  {
   "cell_type": "code",
   "execution_count": 3,
   "metadata": {},
   "outputs": [
    {
     "name": "stdout",
     "output_type": "stream",
     "text": [
      "33\n",
      "Help on function test in module __main__:\n",
      "\n",
      "test(a, b)\n",
      "\n"
     ]
    }
   ],
   "source": [
    "def test(a,b):\n",
    "    print(\"%d\"%(a+b))\n",
    "    \n",
    "test(11,22)\n",
    "\n",
    "help(test) #能够看到test函数的相关说明 用来完成对两个数求和"
   ]
  },
  {
   "cell_type": "code",
   "execution_count": 6,
   "metadata": {},
   "outputs": [
    {
     "name": "stdout",
     "output_type": "stream",
     "text": [
      "Help on function sum in module __main__:\n",
      "\n",
      "sum(num1, num2)\n",
      "    这个函数实现了对两个数的和的打印\n",
      "\n"
     ]
    }
   ],
   "source": [
    "def sum(num1,num2):\n",
    "    '''这个函数实现了对两个数的和的打印''' #自定义函数的文档说明必须放在第一行\n",
    "    \n",
    "    print(num1+num2)\n",
    "    \n",
    "help(sum)"
   ]
  },
  {
   "cell_type": "markdown",
   "metadata": {},
   "source": [
    "### 1.3.2  _doc_"
   ]
  },
  {
   "cell_type": "markdown",
   "metadata": {},
   "source": [
    "__doc__是每个对象都有的属性，其存放了对象文档。"
   ]
  },
  {
   "cell_type": "code",
   "execution_count": 7,
   "metadata": {},
   "outputs": [
    {
     "data": {
      "text/plain": [
       "\"Functions to convert between Python values and C structs.\\nPython bytes objects are used to hold the data representing the C struct\\nand also as format strings (explained below) to describe the layout of data\\nin the C struct.\\n\\nThe optional first format char indicates byte order, size and alignment:\\n  @: native order, size & alignment (default)\\n  =: native order, std. size & alignment\\n  <: little-endian, std. size & alignment\\n  >: big-endian, std. size & alignment\\n  !: same as >\\n\\nThe remaining chars indicate types of args and must match exactly;\\nthese can be preceded by a decimal repeat count:\\n  x: pad byte (no data); c:char; b:signed byte; B:unsigned byte;\\n  ?: _Bool (requires C99; if not available, char is used instead)\\n  h:short; H:unsigned short; i:int; I:unsigned int;\\n  l:long; L:unsigned long; f:float; d:double; e:half-float.\\nSpecial cases (preceding decimal count indicates length):\\n  s:string (array of char); p: pascal string (with count byte).\\nSpecial cases (only available in native format):\\n  n:ssize_t; N:size_t;\\n  P:an integer type that is wide enough to hold a pointer.\\nSpecial case (not in native mode unless 'long long' in platform C):\\n  q:long long; Q:unsigned long long\\nWhitespace between formats is ignored.\\n\\nThe variable struct.error is an exception raised on errors.\\n\""
      ]
     },
     "execution_count": 7,
     "metadata": {},
     "output_type": "execute_result"
    }
   ],
   "source": [
    "import struct  \n",
    "\n",
    "struct.__doc__   "
   ]
  },
  {
   "cell_type": "markdown",
   "metadata": {},
   "source": [
    "# 1.4 函数作用域"
   ]
  },
  {
   "cell_type": "markdown",
   "metadata": {},
   "source": [
    "## 1.4.1 什么是函数作用域"
   ]
  },
  {
   "cell_type": "markdown",
   "metadata": {},
   "source": [
    "变量到底是什么呢？可将其视为指向值的名称。因此，执行赋值语句x=1后，名称x指向值1。这几乎与使用字典一样(字典中的键指向值)，只是你使用的是\"看不见\"的字典。实际上，这种解释已经离真相不远。有一个名为vars的内置函数，它返回这个不可见的字典\n",
    "\n",
    "Python 中，程序的变量并不是在哪个位置都可以访问的，访问权限决定于这个变量是在哪里赋值的。\n",
    "\n",
    "变量的作用域决定了在哪一部分程序可以访问哪个特定的变量名称。\n"
   ]
  },
  {
   "cell_type": "code",
   "execution_count": 6,
   "metadata": {},
   "outputs": [
    {
     "data": {
      "text/plain": [
       "1"
      ]
     },
     "execution_count": 6,
     "metadata": {},
     "output_type": "execute_result"
    }
   ],
   "source": [
    "x = 1\n",
    "scope = vars()\n",
    "scope['x'] "
   ]
  },
  {
   "cell_type": "markdown",
   "metadata": {},
   "source": [
    "## 1.4.2 全局作用域与局部作用域的区别"
   ]
  },
  {
   "cell_type": "markdown",
   "metadata": {},
   "source": [
    "#### 局部变量\n",
    "\n",
    "在函数内部被定义的变量，只能在函数内部访问。"
   ]
  },
  {
   "cell_type": "markdown",
   "metadata": {},
   "source": [
    "#### 全局变量\n",
    "在所有函数之外创建的变量，可以被所有的函数访问。"
   ]
  },
  {
   "cell_type": "code",
   "execution_count": 22,
   "metadata": {},
   "outputs": [
    {
     "name": "stdout",
     "output_type": "stream",
     "text": [
      "1\n",
      "2\n",
      "1\n"
     ]
    },
    {
     "ename": "NameError",
     "evalue": "name 'localvar' is not defined",
     "output_type": "error",
     "traceback": [
      "\u001b[0;31m---------------------------------------------------------------------------\u001b[0m",
      "\u001b[0;31mNameError\u001b[0m                                 Traceback (most recent call last)",
      "\u001b[0;32m<ipython-input-22-8a5ebb2b54b4>\u001b[0m in \u001b[0;36m<module>\u001b[0;34m()\u001b[0m\n\u001b[1;32m      8\u001b[0m \u001b[0mf1\u001b[0m\u001b[1;33m(\u001b[0m\u001b[1;33m)\u001b[0m\u001b[1;33m\u001b[0m\u001b[0m\n\u001b[1;32m      9\u001b[0m \u001b[0mprint\u001b[0m\u001b[1;33m(\u001b[0m\u001b[0mglobalvar\u001b[0m\u001b[1;33m)\u001b[0m\u001b[1;33m\u001b[0m\u001b[0m\n\u001b[0;32m---> 10\u001b[0;31m \u001b[0mprint\u001b[0m\u001b[1;33m(\u001b[0m\u001b[0mlocalvar\u001b[0m\u001b[1;33m)\u001b[0m\u001b[1;33m\u001b[0m\u001b[0m\n\u001b[0m",
      "\u001b[0;31mNameError\u001b[0m: name 'localvar' is not defined"
     ]
    }
   ],
   "source": [
    "globalvar = 1 #全局变量\n",
    "\n",
    "def f1():\n",
    "    localvar = 2 #局部变量\n",
    "    print(globalvar)\n",
    "    print(localvar)\n",
    "    \n",
    "f1()\n",
    "print(globalvar)\n",
    "print(localvar)"
   ]
  },
  {
   "cell_type": "markdown",
   "metadata": {},
   "source": [
    "globalvar是全局变量，localvar是局部变量，globalvar可以在函数中访问，但是localvar却不能在函数外访问，会报错"
   ]
  },
  {
   "cell_type": "markdown",
   "metadata": {
    "collapsed": true
   },
   "source": [
    "## 1.4.3 在局部作用域中，全局变量遮盖的问题\n",
    "\n",
    "如果有一个局部变量或参数与你要访问的全局变量同名，就无法直接访问全局变量，因为它被局部变量遮住了。\n",
    "\n",
    "全局变量与局部变量同名：如果局部变量与全局变量同名，那么函数中将优先使用的是局部变量的值，而不是使用全局变量\n"
   ]
  },
  {
   "cell_type": "code",
   "execution_count": 5,
   "metadata": {},
   "outputs": [
    {
     "name": "stdout",
     "output_type": "stream",
     "text": [
      "hi man\n",
      "Hello World\n"
     ]
    }
   ],
   "source": [
    "firstValue = \"Hello World\"\n",
    " \n",
    "def printStr():\n",
    "    \n",
    "    firstValue = \"hi man\"\n",
    "    print(firstValue) #注意：这里的firstValue调用的是局部变量firstValue，在方法中直接覆盖掉同名的全局变量firstValue\n",
    "\n",
    "printStr()\n",
    "print(firstValue)"
   ]
  },
  {
   "cell_type": "markdown",
   "metadata": {},
   "source": [
    "python访问变量的顺序： 当前作用域局部变量->外层作用域变量->当前模块中的全局变量->python内置变量."
   ]
  },
  {
   "cell_type": "markdown",
   "metadata": {},
   "source": [
    "#### global\n",
    "\n",
    "global 可以将局部变量的作用域改为全局。\n",
    "如果需要，可使用函数global来访问全局变量。这个函数类似于vars，返回一个包含全局变量的字典。（locals返回一个包含局部变量的字典。）"
   ]
  },
  {
   "cell_type": "code",
   "execution_count": 9,
   "metadata": {},
   "outputs": [
    {
     "name": "stdout",
     "output_type": "stream",
     "text": [
      "100\n"
     ]
    },
    {
     "data": {
      "text/plain": [
       "100"
      ]
     },
     "execution_count": 9,
     "metadata": {},
     "output_type": "execute_result"
    }
   ],
   "source": [
    "x = 123\n",
    "\n",
    "def testGlobal():\n",
    "    global x\n",
    "\n",
    "    x = 100\n",
    "    print(x)\n",
    "    \n",
    "testGlobal() \n",
    "x"
   ]
  },
  {
   "cell_type": "code",
   "execution_count": 11,
   "metadata": {},
   "outputs": [
    {
     "name": "stdout",
     "output_type": "stream",
     "text": [
      "100\n",
      "123\n"
     ]
    }
   ],
   "source": [
    "x = 123\n",
    "\n",
    "def testGlobal():\n",
    "   \n",
    "    x = 100\n",
    "    print(x)\n",
    "    \n",
    "testGlobal()\n",
    "print(x)"
   ]
  },
  {
   "cell_type": "code",
   "execution_count": 33,
   "metadata": {},
   "outputs": [
    {
     "name": "stdout",
     "output_type": "stream",
     "text": [
      "10\n",
      "10\n"
     ]
    }
   ],
   "source": [
    "count = 5\n",
    "\n",
    "def func():\n",
    "    global count\n",
    "    count = 10\n",
    "    print(count)\n",
    "\n",
    "func()\n",
    "print(count)"
   ]
  },
  {
   "cell_type": "markdown",
   "metadata": {},
   "source": [
    "### 1.4.4 全局变量、外部非全局变量，在局部作用域中的重新关联\n"
   ]
  },
  {
   "cell_type": "markdown",
   "metadata": {},
   "source": [
    "#### 全局变量在局部作用域中的重新关联"
   ]
  },
  {
   "cell_type": "code",
   "execution_count": 41,
   "metadata": {},
   "outputs": [
    {
     "name": "stdout",
     "output_type": "stream",
     "text": [
      "1\n",
      "1\n"
     ]
    }
   ],
   "source": [
    "gcount = 0#第一行定义了一个全局变量\n",
    "\n",
    "def global_test():\n",
    "    global gcount #在内部函数中声明gcount为全局变量\n",
    "    gcount +=1\n",
    "    print(gcount) #打印的值为全局变量值为1\n",
    "\n",
    "global_test()\n",
    "print(gcount)  #打印的值为全局变量值为1"
   ]
  },
  {
   "cell_type": "markdown",
   "metadata": {},
   "source": [
    "#### 外部非全局变量在局部作用域中的重新关联\n",
    "\n",
    "nonlocal关键字用来在函数或其他作用域中使用外层(非全局)变量\n",
    "\n",
    "nonlocal 适用于在局部函数中调用另一个局部函数的局部变量， 把最内层的局部变量设置成外层局部或者其它局部可用，但不可在全局使用\n",
    "\n",
    "简而言之，nonlocal的作用：\n",
    "\n",
    "在一个函数中调用另一个函数的私有化变量"
   ]
  },
  {
   "cell_type": "code",
   "execution_count": 42,
   "metadata": {},
   "outputs": [
    {
     "name": "stdout",
     "output_type": "stream",
     "text": [
      "1\n",
      "2\n",
      "3\n"
     ]
    }
   ],
   "source": [
    "def make_counter(): \n",
    "    count = 0 \n",
    "    def counter(): \n",
    "        nonlocal count \n",
    "        count += 1 \n",
    "        return count \n",
    "    return counter \n",
    "\n",
    "def make_counter_test(): \n",
    "    mc = make_counter() \n",
    "    print(mc())\n",
    "    print(mc())\n",
    "    print(mc())\n",
    "\n",
    "make_counter_test()"
   ]
  },
  {
   "cell_type": "markdown",
   "metadata": {},
   "source": [
    "# 1.5 递归调用"
   ]
  },
  {
   "cell_type": "markdown",
   "metadata": {},
   "source": [
    "## 1.5.1 递归是什么"
   ]
  },
  {
   "cell_type": "markdown",
   "metadata": {},
   "source": [
    "递归意味着引用（这里是调用）自身。可使用递归完成的任何任务都可使用循环来完成，但有时使用递归函数的可读性更高。\n",
    "\n",
    "基线条件（针对最小的问题）：满足这种条件时函数将直接返回一个值。\n",
    "\n",
    "递归条件：包含一个或多个调用，这些调用旨在解决问题的一部分"
   ]
  },
  {
   "cell_type": "code",
   "execution_count": 55,
   "metadata": {},
   "outputs": [
    {
     "name": "stdout",
     "output_type": "stream",
     "text": [
      "8\n"
     ]
    }
   ],
   "source": [
    "#计算幂\n",
    "def power(x, n): \n",
    "    if n == 0: \n",
    "        return 1  #对于任何数字x，power(x, 0)都为1\n",
    "    \n",
    "    else: \n",
    "        return (x * power(x, n-1))   #n>0时，power(x, n)为power(x, n-1)与x的乘积\n",
    "    \n",
    "print (power(2,3))"
   ]
  },
  {
   "cell_type": "markdown",
   "metadata": {},
   "source": [
    "## 1.5.2 递归在二分查找中的应用"
   ]
  },
  {
   "cell_type": "markdown",
   "metadata": {},
   "source": [
    "如果上限和下限相同，就说明它们都指向数字所在的位置，因此将这个数字返回。\n",
    "\n",
    "否则，找出区间的中间位置（上限和下限的平均值），再确定数字在左半部分还是右半部分。然后在继续在数字所在的那部分中查找。"
   ]
  },
  {
   "cell_type": "code",
   "execution_count": 7,
   "metadata": {},
   "outputs": [
    {
     "ename": "AssertionError",
     "evalue": "不存在",
     "output_type": "error",
     "traceback": [
      "\u001b[1;31m---------------------------------------------------------------------------\u001b[0m",
      "\u001b[1;31mAssertionError\u001b[0m                            Traceback (most recent call last)",
      "\u001b[1;32m<ipython-input-7-37afe9719de0>\u001b[0m in \u001b[0;36m<module>\u001b[1;34m\u001b[0m\n\u001b[0;32m     15\u001b[0m                 \u001b[1;32mreturn\u001b[0m \u001b[0msearch\u001b[0m\u001b[1;33m(\u001b[0m\u001b[0msequence\u001b[0m\u001b[1;33m,\u001b[0m \u001b[0mnumber\u001b[0m\u001b[1;33m,\u001b[0m \u001b[0mlower\u001b[0m\u001b[1;33m,\u001b[0m \u001b[0mmiddle\u001b[0m\u001b[1;33m)\u001b[0m   \u001b[1;31m#如果要查找的数字更大，肯定在右边；如果更小，它必然在左边\u001b[0m\u001b[1;33m\u001b[0m\u001b[1;33m\u001b[0m\u001b[0m\n\u001b[0;32m     16\u001b[0m \u001b[1;33m\u001b[0m\u001b[0m\n\u001b[1;32m---> 17\u001b[1;33m \u001b[0msearch\u001b[0m\u001b[1;33m(\u001b[0m\u001b[1;33m[\u001b[0m\u001b[1;36m1\u001b[0m\u001b[1;33m,\u001b[0m\u001b[1;36m2\u001b[0m\u001b[1;33m,\u001b[0m\u001b[1;36m4\u001b[0m\u001b[1;33m,\u001b[0m\u001b[1;36m6\u001b[0m\u001b[1;33m,\u001b[0m\u001b[1;36m8\u001b[0m\u001b[1;33m,\u001b[0m\u001b[1;36m10\u001b[0m\u001b[1;33m,\u001b[0m\u001b[1;36m11\u001b[0m\u001b[1;33m]\u001b[0m\u001b[1;33m,\u001b[0m\u001b[1;36m7\u001b[0m\u001b[1;33m,\u001b[0m\u001b[1;36m0\u001b[0m\u001b[1;33m,\u001b[0m\u001b[1;36m6\u001b[0m\u001b[1;33m)\u001b[0m\u001b[1;33m\u001b[0m\u001b[1;33m\u001b[0m\u001b[0m\n\u001b[0m",
      "\u001b[1;32m<ipython-input-7-37afe9719de0>\u001b[0m in \u001b[0;36msearch\u001b[1;34m(sequence, number, lower, upper)\u001b[0m\n\u001b[0;32m     10\u001b[0m \u001b[1;33m\u001b[0m\u001b[0m\n\u001b[0;32m     11\u001b[0m             \u001b[1;32mif\u001b[0m \u001b[0mnumber\u001b[0m \u001b[1;33m>\u001b[0m \u001b[0msequence\u001b[0m\u001b[1;33m[\u001b[0m\u001b[0mmiddle\u001b[0m\u001b[1;33m]\u001b[0m\u001b[1;33m:\u001b[0m   \u001b[1;31m#再确定数字在左半部分还是右半部分，然后在继续在数字所在的那部分中查找。\u001b[0m\u001b[1;33m\u001b[0m\u001b[1;33m\u001b[0m\u001b[0m\n\u001b[1;32m---> 12\u001b[1;33m                 \u001b[1;32mreturn\u001b[0m \u001b[0msearch\u001b[0m\u001b[1;33m(\u001b[0m\u001b[0msequence\u001b[0m\u001b[1;33m,\u001b[0m \u001b[0mnumber\u001b[0m\u001b[1;33m,\u001b[0m \u001b[0mmiddle\u001b[0m \u001b[1;33m+\u001b[0m \u001b[1;36m1\u001b[0m\u001b[1;33m,\u001b[0m \u001b[0mupper\u001b[0m\u001b[1;33m)\u001b[0m\u001b[1;33m\u001b[0m\u001b[1;33m\u001b[0m\u001b[0m\n\u001b[0m\u001b[0;32m     13\u001b[0m \u001b[1;33m\u001b[0m\u001b[0m\n\u001b[0;32m     14\u001b[0m             \u001b[1;32melse\u001b[0m\u001b[1;33m:\u001b[0m\u001b[1;33m\u001b[0m\u001b[1;33m\u001b[0m\u001b[0m\n",
      "\u001b[1;32m<ipython-input-7-37afe9719de0>\u001b[0m in \u001b[0;36msearch\u001b[1;34m(sequence, number, lower, upper)\u001b[0m\n\u001b[0;32m     13\u001b[0m \u001b[1;33m\u001b[0m\u001b[0m\n\u001b[0;32m     14\u001b[0m             \u001b[1;32melse\u001b[0m\u001b[1;33m:\u001b[0m\u001b[1;33m\u001b[0m\u001b[1;33m\u001b[0m\u001b[0m\n\u001b[1;32m---> 15\u001b[1;33m                 \u001b[1;32mreturn\u001b[0m \u001b[0msearch\u001b[0m\u001b[1;33m(\u001b[0m\u001b[0msequence\u001b[0m\u001b[1;33m,\u001b[0m \u001b[0mnumber\u001b[0m\u001b[1;33m,\u001b[0m \u001b[0mlower\u001b[0m\u001b[1;33m,\u001b[0m \u001b[0mmiddle\u001b[0m\u001b[1;33m)\u001b[0m   \u001b[1;31m#如果要查找的数字更大，肯定在右边；如果更小，它必然在左边\u001b[0m\u001b[1;33m\u001b[0m\u001b[1;33m\u001b[0m\u001b[0m\n\u001b[0m\u001b[0;32m     16\u001b[0m \u001b[1;33m\u001b[0m\u001b[0m\n\u001b[0;32m     17\u001b[0m \u001b[0msearch\u001b[0m\u001b[1;33m(\u001b[0m\u001b[1;33m[\u001b[0m\u001b[1;36m1\u001b[0m\u001b[1;33m,\u001b[0m\u001b[1;36m2\u001b[0m\u001b[1;33m,\u001b[0m\u001b[1;36m4\u001b[0m\u001b[1;33m,\u001b[0m\u001b[1;36m6\u001b[0m\u001b[1;33m,\u001b[0m\u001b[1;36m8\u001b[0m\u001b[1;33m,\u001b[0m\u001b[1;36m10\u001b[0m\u001b[1;33m,\u001b[0m\u001b[1;36m11\u001b[0m\u001b[1;33m]\u001b[0m\u001b[1;33m,\u001b[0m\u001b[1;36m7\u001b[0m\u001b[1;33m,\u001b[0m\u001b[1;36m0\u001b[0m\u001b[1;33m,\u001b[0m\u001b[1;36m6\u001b[0m\u001b[1;33m)\u001b[0m\u001b[1;33m\u001b[0m\u001b[1;33m\u001b[0m\u001b[0m\n",
      "\u001b[1;32m<ipython-input-7-37afe9719de0>\u001b[0m in \u001b[0;36msearch\u001b[1;34m(sequence, number, lower, upper)\u001b[0m\n\u001b[0;32m     13\u001b[0m \u001b[1;33m\u001b[0m\u001b[0m\n\u001b[0;32m     14\u001b[0m             \u001b[1;32melse\u001b[0m\u001b[1;33m:\u001b[0m\u001b[1;33m\u001b[0m\u001b[1;33m\u001b[0m\u001b[0m\n\u001b[1;32m---> 15\u001b[1;33m                 \u001b[1;32mreturn\u001b[0m \u001b[0msearch\u001b[0m\u001b[1;33m(\u001b[0m\u001b[0msequence\u001b[0m\u001b[1;33m,\u001b[0m \u001b[0mnumber\u001b[0m\u001b[1;33m,\u001b[0m \u001b[0mlower\u001b[0m\u001b[1;33m,\u001b[0m \u001b[0mmiddle\u001b[0m\u001b[1;33m)\u001b[0m   \u001b[1;31m#如果要查找的数字更大，肯定在右边；如果更小，它必然在左边\u001b[0m\u001b[1;33m\u001b[0m\u001b[1;33m\u001b[0m\u001b[0m\n\u001b[0m\u001b[0;32m     16\u001b[0m \u001b[1;33m\u001b[0m\u001b[0m\n\u001b[0;32m     17\u001b[0m \u001b[0msearch\u001b[0m\u001b[1;33m(\u001b[0m\u001b[1;33m[\u001b[0m\u001b[1;36m1\u001b[0m\u001b[1;33m,\u001b[0m\u001b[1;36m2\u001b[0m\u001b[1;33m,\u001b[0m\u001b[1;36m4\u001b[0m\u001b[1;33m,\u001b[0m\u001b[1;36m6\u001b[0m\u001b[1;33m,\u001b[0m\u001b[1;36m8\u001b[0m\u001b[1;33m,\u001b[0m\u001b[1;36m10\u001b[0m\u001b[1;33m,\u001b[0m\u001b[1;36m11\u001b[0m\u001b[1;33m]\u001b[0m\u001b[1;33m,\u001b[0m\u001b[1;36m7\u001b[0m\u001b[1;33m,\u001b[0m\u001b[1;36m0\u001b[0m\u001b[1;33m,\u001b[0m\u001b[1;36m6\u001b[0m\u001b[1;33m)\u001b[0m\u001b[1;33m\u001b[0m\u001b[1;33m\u001b[0m\u001b[0m\n",
      "\u001b[1;32m<ipython-input-7-37afe9719de0>\u001b[0m in \u001b[0;36msearch\u001b[1;34m(sequence, number, lower, upper)\u001b[0m\n\u001b[0;32m      2\u001b[0m \u001b[1;32mdef\u001b[0m \u001b[0msearch\u001b[0m\u001b[1;33m(\u001b[0m\u001b[0msequence\u001b[0m\u001b[1;33m,\u001b[0m \u001b[0mnumber\u001b[0m\u001b[1;33m,\u001b[0m \u001b[0mlower\u001b[0m\u001b[1;33m,\u001b[0m \u001b[0mupper\u001b[0m\u001b[1;33m)\u001b[0m\u001b[1;33m:\u001b[0m  \u001b[1;31m#在列表中找数字的位置\u001b[0m\u001b[1;33m\u001b[0m\u001b[1;33m\u001b[0m\u001b[0m\n\u001b[0;32m      3\u001b[0m      \u001b[1;32mif\u001b[0m \u001b[0mlower\u001b[0m \u001b[1;33m==\u001b[0m \u001b[0mupper\u001b[0m\u001b[1;33m:\u001b[0m\u001b[1;33m\u001b[0m\u001b[1;33m\u001b[0m\u001b[0m\n\u001b[1;32m----> 4\u001b[1;33m             \u001b[1;32massert\u001b[0m \u001b[0mnumber\u001b[0m \u001b[1;33m==\u001b[0m \u001b[0msequence\u001b[0m\u001b[1;33m[\u001b[0m\u001b[0mupper\u001b[0m\u001b[1;33m]\u001b[0m\u001b[1;33m,\u001b[0m\u001b[1;34m\"不存在\"\u001b[0m\u001b[1;33m\u001b[0m\u001b[1;33m\u001b[0m\u001b[0m\n\u001b[0m\u001b[0;32m      5\u001b[0m             \u001b[1;32mreturn\u001b[0m \u001b[0mupper\u001b[0m   \u001b[1;31m#如果上限和下限相同，就说明它们都指向数字所在的位置，因此将这个数字返回\u001b[0m\u001b[1;33m\u001b[0m\u001b[1;33m\u001b[0m\u001b[0m\n\u001b[0;32m      6\u001b[0m \u001b[1;33m\u001b[0m\u001b[0m\n",
      "\u001b[1;31mAssertionError\u001b[0m: 不存在"
     ]
    }
   ],
   "source": [
    "#对方心里想着一个1～100的数字，你必须猜出是哪个，不断将可能的区间减半，直到猜对为止\n",
    "def search(sequence, number, lower, upper):  #在列表中找数字的位置\n",
    "     if lower == upper:\n",
    "            assert number == sequence[upper],\"不存在\" \n",
    "            return upper   #如果上限和下限相同，就说明它们都指向数字所在的位置，因此将这个数字返回\n",
    " \n",
    "     else:\n",
    "            middle = (lower + upper) // 2  #否则，找出区间的中间位置（上限和下限的平均值）\n",
    "  \n",
    "     \n",
    "            if number > sequence[middle]:   #再确定数字在左半部分还是右半部分，然后在继续在数字所在的那部分中查找。\n",
    "                return search(sequence, number, middle + 1, upper) \n",
    "          \n",
    "            else: \n",
    "                return search(sequence, number, lower, middle)   #如果要查找的数字更大，肯定在右边；如果更小，它必然在左边\n",
    "                \n",
    "search([1,2,4,6,8,10,11],7,0,6)              "
   ]
  },
  {
   "cell_type": "code",
   "execution_count": null,
   "metadata": {
    "collapsed": true
   },
   "outputs": [],
   "source": []
  },
  {
   "cell_type": "code",
   "execution_count": null,
   "metadata": {
    "collapsed": true
   },
   "outputs": [],
   "source": []
  }
 ],
 "metadata": {
  "kernelspec": {
   "display_name": "Python 3",
   "language": "python",
   "name": "python3"
  },
  "language_info": {
   "codemirror_mode": {
    "name": "ipython",
    "version": 3
   },
   "file_extension": ".py",
   "mimetype": "text/x-python",
   "name": "python",
   "nbconvert_exporter": "python",
   "pygments_lexer": "ipython3",
   "version": "3.8.3"
  },
  "toc": {
   "base_numbering": 1,
   "nav_menu": {},
   "number_sections": true,
   "sideBar": true,
   "skip_h1_title": false,
   "title_cell": "Table of Contents",
   "title_sidebar": "Contents",
   "toc_cell": false,
   "toc_position": {},
   "toc_section_display": true,
   "toc_window_display": false
  }
 },
 "nbformat": 4,
 "nbformat_minor": 2
}
