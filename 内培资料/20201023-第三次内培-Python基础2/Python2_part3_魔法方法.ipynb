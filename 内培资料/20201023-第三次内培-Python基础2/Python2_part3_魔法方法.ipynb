{
 "cells": [
  {
   "cell_type": "markdown",
   "metadata": {},
   "source": [
    "# 五、魔法方法\n",
    "\n",
    "## 1.“方法”VS“函数”VS“属性”\n",
    "\n",
    "    函数（FunctionType）：\n",
    "    函数是封装了一些独立的功能，可以直接调用，能将一些数据（参数）传递进去进行处理，然后返回一些数据（返回值），也可以没有返回值。可以直接在模块中进行定义使用。 所有传递给函数的数据都是显式传递的。\n",
    "\n",
    "    方法（MethodType）：\n",
    "    方法和函数类似，同样封装了独立的功能，但是方法是只能依靠类或者对象来调用的，表示针对性的操作。方法中的数据self和cls是隐式传递的，即方法的调用者；方法可以操作类内部的数据。\n",
    "    \n",
    "    简单的说，函数在python中独立存在，可直接使用的，而方法是必须被别人调用才能实现的。\n",
    "    \n",
    "    属性：\n",
    "    类和对象的属性，储存某个值（int,str,bool...），代表对象的某种性质或特征。\n",
    "\n",
    "    什么是“魔法方法”\n",
    "    我的理解：“魔法方法”就是与普通方法的调用和使用有所不同的方法，具有特殊的固定名称，便于人们辨别。"
   ]
  },
  {
   "cell_type": "code",
   "execution_count": 1,
   "metadata": {},
   "outputs": [
    {
     "data": {
      "text/plain": [
       "['__add__',\n",
       " '__class__',\n",
       " '__contains__',\n",
       " '__delattr__',\n",
       " '__delitem__',\n",
       " '__dir__',\n",
       " '__doc__',\n",
       " '__eq__',\n",
       " '__format__',\n",
       " '__ge__',\n",
       " '__getattribute__',\n",
       " '__getitem__',\n",
       " '__gt__',\n",
       " '__hash__',\n",
       " '__iadd__',\n",
       " '__imul__',\n",
       " '__init__',\n",
       " '__init_subclass__',\n",
       " '__iter__',\n",
       " '__le__',\n",
       " '__len__',\n",
       " '__lt__',\n",
       " '__mul__',\n",
       " '__ne__',\n",
       " '__new__',\n",
       " '__reduce__',\n",
       " '__reduce_ex__',\n",
       " '__repr__',\n",
       " '__reversed__',\n",
       " '__rmul__',\n",
       " '__setattr__',\n",
       " '__setitem__',\n",
       " '__sizeof__',\n",
       " '__str__',\n",
       " '__subclasshook__',\n",
       " 'append',\n",
       " 'clear',\n",
       " 'copy',\n",
       " 'count',\n",
       " 'extend',\n",
       " 'index',\n",
       " 'insert',\n",
       " 'pop',\n",
       " 'remove',\n",
       " 'reverse',\n",
       " 'sort']"
      ]
     },
     "execution_count": 1,
     "metadata": {},
     "output_type": "execute_result"
    }
   ],
   "source": [
    "#dir(list)"
   ]
  },
  {
   "cell_type": "code",
   "execution_count": 1,
   "metadata": {
    "scrolled": true
   },
   "outputs": [
    {
     "name": "stdout",
     "output_type": "stream",
     "text": [
      "[1, 2, 3, 4, 5, 6]\n",
      "[1, 2, 3, 4, 5, 6]\n"
     ]
    }
   ],
   "source": [
    "a=[1,2,3,4,5]\n",
    "#print(a+[6])\n",
    "#print(a.__add__([6]))"
   ]
  },
  {
   "cell_type": "markdown",
   "metadata": {},
   "source": [
    "## 2.基本的序列（字符串、列表、元祖）和映射（字典）的协议（方法）\n",
    "\n",
    "    序列和映射基本上是元素（item）的集合，要实现它们的基本行为（协议），不可变对象需要实现2个方法，而可变对象需要实现4个。\n",
    "\n",
    "    (1)__len__(self)：这个方法应返回集合包含的项数，对序列来说为元素个数，对映射来说为键值对数。如果__len__返回零（且没有实现覆盖这种行为的__nonzero__），对象在布尔上下文中将被视为假（就像空的列表、元组、字符串和字典一样）。  \n",
    "      \n",
    "    (2)__getitem__(self, key)：这个方法应返回与指定键相关联的值。对序列来说，键应该是0~n-1的整数，其中n为序列的长度。对映射来说，键可以是任何类型。\n",
    "\n",
    "    (3)__setitem__(self, key, value)：这个方法应以与键相关联的方式存储值，以便以后能够使用__getitem__来获取。当然，仅当对象可变时才需要实现这个方法。\n",
    "\n",
    "    (4)__delitem__(self, key)：这个方法在对对象的组成部分使用__del__语句时被调用，应删除与key相关联的值。同样，仅当对象可变（且允许其项被删除）时，才需要实现这个方法。\n"
   ]
  },
  {
   "cell_type": "code",
   "execution_count": 2,
   "metadata": {},
   "outputs": [
    {
     "name": "stdout",
     "output_type": "stream",
     "text": [
      "5\n",
      "7\n",
      "2\n",
      "[1, 4, 7, 2]\n"
     ]
    }
   ],
   "source": [
    "a=[1,4,5,7,8]\n",
    "print(len(a))\n",
    "print(a[3])\n",
    "a[4]=2\n",
    "print(a[4])\n",
    "del(a[2])\n",
    "print(a)"
   ]
  },
  {
   "cell_type": "code",
   "execution_count": 6,
   "metadata": {},
   "outputs": [
    {
     "ename": "TypeError",
     "evalue": "'tuple' object doesn't support item deletion",
     "output_type": "error",
     "traceback": [
      "\u001b[1;31m---------------------------------------------------------------------------\u001b[0m",
      "\u001b[1;31mTypeError\u001b[0m                                 Traceback (most recent call last)",
      "\u001b[1;32m<ipython-input-6-6b8593684fa7>\u001b[0m in \u001b[0;36m<module>\u001b[1;34m\u001b[0m\n\u001b[0;32m      3\u001b[0m \u001b[1;31m#print(b[3])\u001b[0m\u001b[1;33m\u001b[0m\u001b[1;33m\u001b[0m\u001b[1;33m\u001b[0m\u001b[0m\n\u001b[0;32m      4\u001b[0m \u001b[1;31m#b[2]=4\u001b[0m\u001b[1;33m\u001b[0m\u001b[1;33m\u001b[0m\u001b[1;33m\u001b[0m\u001b[0m\n\u001b[1;32m----> 5\u001b[1;33m \u001b[1;32mdel\u001b[0m\u001b[1;33m(\u001b[0m\u001b[0mb\u001b[0m\u001b[1;33m[\u001b[0m\u001b[1;36m1\u001b[0m\u001b[1;33m]\u001b[0m\u001b[1;33m)\u001b[0m\u001b[1;33m\u001b[0m\u001b[1;33m\u001b[0m\u001b[0m\n\u001b[0m",
      "\u001b[1;31mTypeError\u001b[0m: 'tuple' object doesn't support item deletion"
     ]
    }
   ],
   "source": [
    "b=(1,2,3,4,5,6)\n",
    "#print(len(b))\n",
    "#print(b[3])\n",
    "#b[2]=4\n",
    "#del(b[1])"
   ]
  },
  {
   "cell_type": "code",
   "execution_count": 7,
   "metadata": {},
   "outputs": [
    {
     "name": "stdout",
     "output_type": "stream",
     "text": [
      "5\n",
      "5\n"
     ]
    }
   ],
   "source": [
    "class Range:\n",
    "    \n",
    "    def __init__(self, start, stop = None, step = 1) :\n",
    "    ###Initialize a Range instance .\n",
    "        if step == 0:\n",
    "            raise ValueError('step cannot be 0')\n",
    "        if stop is None: # special case of range (n)\n",
    "            start, stop = 0, start # should be treated as if range (0 ,n) \n",
    "         # calculate the effective length once\n",
    "        self._length = max(0, (stop - start + step - 1) // step)\n",
    "        # need knowledge of start and step ( but not stop ) to support __getitem__\n",
    "        self._start = start\n",
    "        self._step = step\n",
    "\n",
    "    def __len__(self):\n",
    "    #Return number of entries in the range . \n",
    "        return self._length\n",
    "\n",
    "    def __getitem__(self, k):\n",
    "    ##Return entry at index k ( using standard interpretation if negative ). \n",
    "        if k < 0:\n",
    "            k += len(self) # attempt to convert negative index\n",
    "        if not 0 <= k < self._length :\n",
    "            raise IndexError('index out of range')\n",
    "        return (self._start + k * self._step)\n",
    "    \n",
    "a=Range(1,10,2)\n",
    "#print(len(a))\n",
    "#print(a[2])"
   ]
  },
  {
   "cell_type": "markdown",
   "metadata": {},
   "source": [
    "## 3.静态方法和类方法\n",
    "\n",
    "    实例方法 \n",
    "    定义：第一个参数必须是实例对象，该参数名一般约定为“self”，通过它来传递实例的属性和方法（也可以传类的属性和方法）；\n",
    "    调用：只能由实例对象调用。\n",
    "    类方法\n",
    "    定义：使用装饰器@classmethod。第一个参数必须是当前类对象，该参数名一般约定为“cls”，通过它来传递类的属性和方法（不能传实例的属性和方法）；\n",
    "    调用：实例对象和类对象都可以调用。\n",
    "    静态方法\n",
    "    定义：使用装饰器@staticmethod。参数随意，没有“self”和“cls”参数，但是方法体中不能使用类或实例的任何属性和方法；\n",
    "    调用：实例对象和类对象都可以调用。\n",
    "    \n",
    "https://www.cnblogs.com/geogre123/p/10142510.html"
   ]
  },
  {
   "cell_type": "markdown",
   "metadata": {},
   "source": [
    "### 1.类方法:  \n",
    "    使用装饰器@classmethod。原则上，类方法是将类本身作为对象进行操作的方法。假设有个方法，且这个方法在逻辑上采用类本身作为对象来调用更合理，那么这个方法就可以定义为类方法。另外，如果需要继承，也可以定义为类方法。  \n",
    "  \n",
    "    如下场景：  \n",
    "    假设我有一个学生类和一个班级类，想要实现的功能为：  \n",
    "    1.执行班级人数增加的操作、获得班级的总人数；  \n",
    "    2.学生类继承自班级类，每实例化一个学生，班级人数都能增加；  \n",
    "    3.最后，我想定义一些学生，获得班级中的总人数。  \n",
    "      \n",
    "    思考：这个问题用类方法做比较合适，为什么？     \n",
    "    因为我实例化的是学生，但是如果我从学生这一个实例中获得班级总人数，在逻辑上显然是不合理的。同时，如果想要获得班级总人数，如果生成一个班级的实例也是没有必要的。  "
   ]
  },
  {
   "cell_type": "code",
   "execution_count": 6,
   "metadata": {},
   "outputs": [
    {
     "name": "stdout",
     "output_type": "stream",
     "text": [
      "2\n"
     ]
    }
   ],
   "source": [
    "class ClassTest(object):\n",
    "    __num = 0\n",
    "\n",
    "    @classmethod\n",
    "    def addNum(cls):\n",
    "        cls.__num += 1\n",
    "\n",
    "    @classmethod\n",
    "    def getNum(cls):\n",
    "        return cls.__num\n",
    "\n",
    "    # 这里我用到魔术函数__new__，主要是为了在创建实例的时候调用人数累加的函数。\n",
    "    def __new__(self):\n",
    "        ClassTest.addNum()\n",
    "        return super(ClassTest, self).__new__(self)\n",
    "\n",
    "class Student(ClassTest):\n",
    "    def __init__(self):\n",
    "        self.name = ''\n",
    "\n",
    "a = Student()\n",
    "b = Student()\n",
    "#print(ClassTest.getNum())"
   ]
  },
  {
   "cell_type": "markdown",
   "metadata": {},
   "source": [
    "### 2.静态方法：  \n",
    "    使用装饰器@staticmethod。静态方法是类中的函数，不需要实例。静态方法主要是用来存放逻辑性的代码，逻辑上属于类，但是和类本身没有关系，也就是说在静态方法中，不会涉及到类中的属性和方法的操作。可以理解为，静态方法是个独立的、单纯的函数，它仅仅托管于某个类的名称空间中，便于使用和维护。  \n",
    "\n",
    "    譬如，无论什么狗都是汪汪叫的"
   ]
  },
  {
   "cell_type": "code",
   "execution_count": 12,
   "metadata": {},
   "outputs": [
    {
     "name": "stdout",
     "output_type": "stream",
     "text": [
      "wang,wang,wang...\n",
      "wang,wang,wang...\n"
     ]
    }
   ],
   "source": [
    "class Dog():\n",
    "    @staticmethod\n",
    "    def dark():\n",
    "        print('wang,wang,wang...')\n",
    "Dog.dark()\n",
    "\n",
    "d=Dog()\n",
    "d.dark()"
   ]
  },
  {
   "cell_type": "markdown",
   "metadata": {},
   "source": [
    "如上，使用了静态方法（函数），然而方法体中并没使用（也不能使用）类或实例的属性（或方法）。若要获得当前时间的字符串时，并不一定需要实例化对象，此时对于静态方法而言，所在类更像是一种名称空间。\n",
    "其实，我们也可以在类外面写一个同样的函数来做这些事，但是这样做就打乱了逻辑关系，也会导致以后代码维护困难。"
   ]
  },
  {
   "cell_type": "markdown",
   "metadata": {},
   "source": [
    "## 4.类和对象的魔法方法  \n",
    "——对类和对象的属性的系列操作\n"
   ]
  },
  {
   "cell_type": "markdown",
   "metadata": {},
   "source": [
    "    这些魔法方法是拦截对对象属性的所有访问企图，在属性被访问时执行的一段代码。下面的四个魔法方法提供了你需要的所有功能（在旧式类中，只需使用后面三个）。（Python3默认都是新式类）\n",
    "    （1）__getattribute__(self, name)：在属性被访问时自动调用（只适用于新式类）。\n",
    "    （2）__getattr__(self, name)：在属性被访问而对象没有这样的属性时自动调用。\n",
    "    （3）__setattr__(self, name, value)：试图给属性赋值时自动调用。\n",
    "    （4）__delattr__(self, name)：试图删除属性时自动调用。"
   ]
  },
  {
   "cell_type": "code",
   "execution_count": 12,
   "metadata": {
    "scrolled": true
   },
   "outputs": [
    {
     "name": "stdout",
     "output_type": "stream",
     "text": [
      "['__class__', '__delattr__', '__dict__', '__dir__', '__doc__', '__eq__', '__format__', '__ge__', '__getattribute__', '__gt__', '__hash__', '__init__', '__init_subclass__', '__le__', '__lt__', '__module__', '__ne__', '__new__', '__reduce__', '__reduce_ex__', '__repr__', '__setattr__', '__sizeof__', '__str__', '__subclasshook__', '__weakref__', 'height', 'width']\n",
      "2\n",
      "5\n"
     ]
    },
    {
     "ename": "AttributeError",
     "evalue": "'A' object has no attribute 'height'",
     "output_type": "error",
     "traceback": [
      "\u001b[1;31m---------------------------------------------------------------------------\u001b[0m",
      "\u001b[1;31mAttributeError\u001b[0m                            Traceback (most recent call last)",
      "\u001b[1;32m<ipython-input-12-1e35d72ca9dc>\u001b[0m in \u001b[0;36m<module>\u001b[1;34m\u001b[0m\n\u001b[0;32m      9\u001b[0m \u001b[0mprint\u001b[0m\u001b[1;33m(\u001b[0m\u001b[0ma\u001b[0m\u001b[1;33m.\u001b[0m\u001b[0mheight\u001b[0m\u001b[1;33m)\u001b[0m\u001b[1;33m\u001b[0m\u001b[1;33m\u001b[0m\u001b[0m\n\u001b[0;32m     10\u001b[0m \u001b[1;32mdel\u001b[0m\u001b[1;33m(\u001b[0m\u001b[0ma\u001b[0m\u001b[1;33m.\u001b[0m\u001b[0mheight\u001b[0m\u001b[1;33m)\u001b[0m\u001b[1;33m\u001b[0m\u001b[1;33m\u001b[0m\u001b[0m\n\u001b[1;32m---> 11\u001b[1;33m \u001b[0ma\u001b[0m\u001b[1;33m.\u001b[0m\u001b[0mheight\u001b[0m\u001b[1;33m\u001b[0m\u001b[1;33m\u001b[0m\u001b[0m\n\u001b[0m",
      "\u001b[1;31mAttributeError\u001b[0m: 'A' object has no attribute 'height'"
     ]
    }
   ],
   "source": [
    "class A:\n",
    "    def __init__(self,height=1,width=2):\n",
    "        self.height=height\n",
    "        self.width=width\n",
    "a=A()\n",
    "#print(dir(a))\n",
    "#print(a.width)\n",
    "a.height=5\n",
    "#print(a.height)\n",
    "del(a.height)\n",
    "#a.height"
   ]
  },
  {
   "cell_type": "code",
   "execution_count": 10,
   "metadata": {},
   "outputs": [],
   "source": [
    "class Rectangle:\n",
    "    def __init__(self):\n",
    "        self.width = 0\n",
    "        self.height = 0\n",
    "    def __setattr__(self, name, value):\n",
    "        if name == 'size':\n",
    "            self.width, self.height = value\n",
    "        else:\n",
    "            self.__dict__[name] = value\n",
    "    def __getattr__(self, name):\n",
    "        if name == 'size':\n",
    "            return self.width, self.height\n",
    "        else:\n",
    "            raise AttributeError()\n",
    "            \n",
    "a=Rectangle()\n",
    "a.width=3\n",
    "a.height=4\n",
    "#a.size"
   ]
  },
  {
   "cell_type": "markdown",
   "metadata": {},
   "source": [
    "## 5.例题"
   ]
  },
  {
   "cell_type": "markdown",
   "metadata": {},
   "source": [
    "### 1.列表的加法。  \n",
    "\n",
    "    ·构建一个Vector类，具有以下功能：  \n",
    "    1.获取长度  \n",
    "    2.获取指定位置的元素  \n",
    "    3.设定指定位置的数值\n",
    "    4.进行加法并以指定格式输出。  \n",
    "    （提示：print函数可以通过改写 __str(self）__ 方法）  \n",
    "    eg.\n",
    "    a=Vector([1,2,3])\n",
    "    b=Vector([2,3,4])\n",
    "    print(a+b)的结果为<3,5,7>"
   ]
  },
  {
   "cell_type": "code",
   "execution_count": 1,
   "metadata": {},
   "outputs": [
    {
     "name": "stdout",
     "output_type": "stream",
     "text": [
      "<1, 2, 3, 4, 5>\n",
      "<1, 2, 3, 5, 5>\n",
      "<2, 5, 8, 12, 14>\n"
     ]
    },
    {
     "ename": "ValueError",
     "evalue": "dimensions must agree",
     "output_type": "error",
     "traceback": [
      "\u001b[1;31m---------------------------------------------------------------------------\u001b[0m",
      "\u001b[1;31mValueError\u001b[0m                                Traceback (most recent call last)",
      "\u001b[1;32m<ipython-input-1-112861a8ea34>\u001b[0m in \u001b[0;36m<module>\u001b[1;34m\u001b[0m\n\u001b[0;32m     38\u001b[0m \u001b[0mprint\u001b[0m\u001b[1;33m(\u001b[0m\u001b[0ma\u001b[0m\u001b[1;33m)\u001b[0m\u001b[1;33m\u001b[0m\u001b[1;33m\u001b[0m\u001b[0m\n\u001b[0;32m     39\u001b[0m \u001b[0mprint\u001b[0m\u001b[1;33m(\u001b[0m\u001b[0ma\u001b[0m\u001b[1;33m+\u001b[0m\u001b[0mb\u001b[0m\u001b[1;33m)\u001b[0m\u001b[1;33m\u001b[0m\u001b[1;33m\u001b[0m\u001b[0m\n\u001b[1;32m---> 40\u001b[1;33m \u001b[0mprint\u001b[0m\u001b[1;33m(\u001b[0m\u001b[0ma\u001b[0m\u001b[1;33m+\u001b[0m\u001b[0mc\u001b[0m\u001b[1;33m)\u001b[0m\u001b[1;33m\u001b[0m\u001b[1;33m\u001b[0m\u001b[0m\n\u001b[0m",
      "\u001b[1;32m<ipython-input-1-112861a8ea34>\u001b[0m in \u001b[0;36m__add__\u001b[1;34m(self, other)\u001b[0m\n\u001b[0;32m     20\u001b[0m         \u001b[1;34m\"\"\" Return sum of two vectors . \"\"\"\u001b[0m\u001b[1;33m\u001b[0m\u001b[1;33m\u001b[0m\u001b[0m\n\u001b[0;32m     21\u001b[0m         \u001b[1;32mif\u001b[0m \u001b[0mlen\u001b[0m\u001b[1;33m(\u001b[0m\u001b[0mself\u001b[0m\u001b[1;33m)\u001b[0m \u001b[1;33m!=\u001b[0m \u001b[0mlen\u001b[0m\u001b[1;33m(\u001b[0m\u001b[0mother\u001b[0m\u001b[1;33m)\u001b[0m\u001b[1;33m:\u001b[0m \u001b[1;31m# relies on __len__ method\u001b[0m\u001b[1;33m\u001b[0m\u001b[1;33m\u001b[0m\u001b[0m\n\u001b[1;32m---> 22\u001b[1;33m             \u001b[1;32mraise\u001b[0m \u001b[0mValueError\u001b[0m\u001b[1;33m(\u001b[0m\u001b[1;34m'dimensions must agree'\u001b[0m\u001b[1;33m)\u001b[0m\u001b[1;33m\u001b[0m\u001b[1;33m\u001b[0m\u001b[0m\n\u001b[0m\u001b[0;32m     23\u001b[0m         \u001b[0mresult\u001b[0m \u001b[1;33m=\u001b[0m \u001b[0mVector\u001b[0m\u001b[1;33m(\u001b[0m\u001b[0mlen\u001b[0m\u001b[1;33m(\u001b[0m\u001b[0mself\u001b[0m\u001b[1;33m)\u001b[0m\u001b[1;33m)\u001b[0m \u001b[1;31m# start with vector of zeros\u001b[0m\u001b[1;33m\u001b[0m\u001b[1;33m\u001b[0m\u001b[0m\n\u001b[0;32m     24\u001b[0m         \u001b[1;32mfor\u001b[0m \u001b[0mj\u001b[0m \u001b[1;32min\u001b[0m \u001b[0mrange\u001b[0m\u001b[1;33m(\u001b[0m\u001b[0mlen\u001b[0m\u001b[1;33m(\u001b[0m\u001b[0mself\u001b[0m\u001b[1;33m)\u001b[0m\u001b[1;33m)\u001b[0m\u001b[1;33m:\u001b[0m\u001b[1;33m\u001b[0m\u001b[1;33m\u001b[0m\u001b[0m\n",
      "\u001b[1;31mValueError\u001b[0m: dimensions must agree"
     ]
    }
   ],
   "source": [
    "class Vector :\n",
    "    def __init__(self, d):\n",
    "        if isinstance(d, int):\n",
    "            self._coords = [0] * d\n",
    "        else:\n",
    "            try: # we test if param is iterable\n",
    "                self._coords = [val for val in d]\n",
    "            except TypeError:\n",
    "                raise TypeError('invalid parameter type')\n",
    "    def __len__(self):\n",
    "        \"\"\" Return the dimension of the vector . \"\"\"\n",
    "        return len(self._coords)\n",
    "    def __getitem__(self , j):\n",
    "        \"\"\" Return jth coordinate of vector . \"\"\"\n",
    "        return self._coords[j]\n",
    "    def __setitem__(self, j, val):\n",
    "        \"\"\" Set jth coordinate of vector to given value . \"\"\"\n",
    "        self._coords[j] = val\n",
    "    def __add__(self ,other ):\n",
    "        \"\"\" Return sum of two vectors . \"\"\"\n",
    "        if len(self) != len(other): # relies on __len__ method\n",
    "            raise ValueError('dimensions must agree')\n",
    "        result = Vector(len(self)) # start with vector of zeros\n",
    "        for j in range(len(self)):\n",
    "            result[j] = self[j] + other[j]\n",
    "        return result\n",
    "    def __str__(self):\n",
    "        \"\"\" Produce string representation of vector . \"\"\"\n",
    "        return '<' + str(self._coords)[1:-1] + '>' # adapt list representation\n",
    "    \n",
    "a=Vector([1,2,3,4,5])\n",
    "b=Vector([1,3,5,7,9])\n",
    "c=Vector([1,2])\n",
    "len(a)\n",
    "print(a)\n",
    "a[2]\n",
    "a[3]=5\n",
    "print(a)\n",
    "print(a+b)\n",
    "print(a+c)"
   ]
  },
  {
   "cell_type": "markdown",
   "metadata": {},
   "source": [
    "### 2.获取时间  \n",
    "    ·构建一个类TimeTest:\n",
    "    1.在不构造实例的情况下可以通过showTime函数获取当前时间。 \n",
    "    2.构建函数whatTime，通过输入小时、分钟、秒，获取“小时：分钟：秒”格式的时间。"
   ]
  },
  {
   "cell_type": "code",
   "execution_count": 11,
   "metadata": {},
   "outputs": [
    {
     "name": "stdout",
     "output_type": "stream",
     "text": [
      "21:58:11\n",
      "2:10:10\n"
     ]
    }
   ],
   "source": [
    "import time\n",
    "class TimeTest(object):\n",
    "    def __init__(self, hour, minute, second):\n",
    "        self.hour = hour\n",
    "        self.minute = minute\n",
    "        self.second = second\n",
    "\n",
    "    @staticmethod\n",
    "    def showTime():\n",
    "        return time.strftime(\"%H:%M:%S\", time.localtime())\n",
    "    \n",
    "    def whatTime(self):\n",
    "        print(self.hour, self.minute,self.second,sep=':')\n",
    "print(TimeTest.showTime())\n",
    "t = TimeTest(2, 10, 10)\n",
    "t.whatTime()"
   ]
  }
 ],
 "metadata": {
  "kernelspec": {
   "display_name": "Python 3",
   "language": "python",
   "name": "python3"
  },
  "language_info": {
   "codemirror_mode": {
    "name": "ipython",
    "version": 3
   },
   "file_extension": ".py",
   "mimetype": "text/x-python",
   "name": "python",
   "nbconvert_exporter": "python",
   "pygments_lexer": "ipython3",
   "version": "3.8.3"
  },
  "toc": {
   "base_numbering": 1,
   "nav_menu": {},
   "number_sections": false,
   "sideBar": true,
   "skip_h1_title": false,
   "title_cell": "Table of Contents",
   "title_sidebar": "Contents",
   "toc_cell": false,
   "toc_position": {
    "height": "calc(100% - 180px)",
    "left": "10px",
    "top": "150px",
    "width": "165px"
   },
   "toc_section_display": true,
   "toc_window_display": true
  }
 },
 "nbformat": 4,
 "nbformat_minor": 4
}
